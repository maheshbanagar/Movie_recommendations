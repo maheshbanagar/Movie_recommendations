{
 "cells": [
  {
   "cell_type": "code",
   "execution_count": 1,
   "id": "09009477",
   "metadata": {},
   "outputs": [],
   "source": [
    "import numpy as np\n",
    "import pandas as pd\n"
   ]
  },
  {
   "cell_type": "code",
   "execution_count": 2,
   "id": "29cef31a",
   "metadata": {},
   "outputs": [],
   "source": [
    "movies = pd.read_csv('TMBD Movie Dataset.csv')"
   ]
  },
  {
   "cell_type": "code",
   "execution_count": 3,
   "id": "a765552b",
   "metadata": {},
   "outputs": [
    {
     "data": {
      "text/html": [
       "<div>\n",
       "<style scoped>\n",
       "    .dataframe tbody tr th:only-of-type {\n",
       "        vertical-align: middle;\n",
       "    }\n",
       "\n",
       "    .dataframe tbody tr th {\n",
       "        vertical-align: top;\n",
       "    }\n",
       "\n",
       "    .dataframe thead th {\n",
       "        text-align: right;\n",
       "    }\n",
       "</style>\n",
       "<table border=\"1\" class=\"dataframe\">\n",
       "  <thead>\n",
       "    <tr style=\"text-align: right;\">\n",
       "      <th></th>\n",
       "      <th>Unnamed: 0</th>\n",
       "      <th>id</th>\n",
       "      <th>imdb_id</th>\n",
       "      <th>popularity</th>\n",
       "      <th>budget</th>\n",
       "      <th>revenue</th>\n",
       "      <th>original_title</th>\n",
       "      <th>cast</th>\n",
       "      <th>homepage</th>\n",
       "      <th>director</th>\n",
       "      <th>...</th>\n",
       "      <th>genres</th>\n",
       "      <th>production_companies</th>\n",
       "      <th>release_date</th>\n",
       "      <th>vote_count</th>\n",
       "      <th>vote_average</th>\n",
       "      <th>release_year</th>\n",
       "      <th>budget_adj</th>\n",
       "      <th>revenue_adj</th>\n",
       "      <th>profit</th>\n",
       "      <th>popularity_level</th>\n",
       "    </tr>\n",
       "  </thead>\n",
       "  <tbody>\n",
       "    <tr>\n",
       "      <th>0</th>\n",
       "      <td>0</td>\n",
       "      <td>135397</td>\n",
       "      <td>tt0369610</td>\n",
       "      <td>32.985763</td>\n",
       "      <td>150000000.0</td>\n",
       "      <td>1.513529e+09</td>\n",
       "      <td>Jurassic World</td>\n",
       "      <td>Chris Pratt|Bryce Dallas Howard|Irrfan Khan|Vi...</td>\n",
       "      <td>http://www.jurassicworld.com/</td>\n",
       "      <td>Colin Trevorrow</td>\n",
       "      <td>...</td>\n",
       "      <td>Action|Adventure|Science Fiction|Thriller</td>\n",
       "      <td>Universal Studios|Amblin Entertainment|Legenda...</td>\n",
       "      <td>2015-06-09</td>\n",
       "      <td>5562</td>\n",
       "      <td>6.5</td>\n",
       "      <td>2015</td>\n",
       "      <td>1.379999e+08</td>\n",
       "      <td>1.392446e+09</td>\n",
       "      <td>1.363529e+09</td>\n",
       "      <td>High</td>\n",
       "    </tr>\n",
       "    <tr>\n",
       "      <th>1</th>\n",
       "      <td>1</td>\n",
       "      <td>76341</td>\n",
       "      <td>tt1392190</td>\n",
       "      <td>28.419936</td>\n",
       "      <td>150000000.0</td>\n",
       "      <td>3.784364e+08</td>\n",
       "      <td>Mad Max: Fury Road</td>\n",
       "      <td>Tom Hardy|Charlize Theron|Hugh Keays-Byrne|Nic...</td>\n",
       "      <td>http://www.madmaxmovie.com/</td>\n",
       "      <td>George Miller</td>\n",
       "      <td>...</td>\n",
       "      <td>Action|Adventure|Science Fiction|Thriller</td>\n",
       "      <td>Village Roadshow Pictures|Kennedy Miller Produ...</td>\n",
       "      <td>2015-05-13</td>\n",
       "      <td>6185</td>\n",
       "      <td>7.1</td>\n",
       "      <td>2015</td>\n",
       "      <td>1.379999e+08</td>\n",
       "      <td>3.481613e+08</td>\n",
       "      <td>2.284364e+08</td>\n",
       "      <td>High</td>\n",
       "    </tr>\n",
       "    <tr>\n",
       "      <th>2</th>\n",
       "      <td>2</td>\n",
       "      <td>262500</td>\n",
       "      <td>tt2908446</td>\n",
       "      <td>13.112507</td>\n",
       "      <td>110000000.0</td>\n",
       "      <td>2.952382e+08</td>\n",
       "      <td>Insurgent</td>\n",
       "      <td>Shailene Woodley|Theo James|Kate Winslet|Ansel...</td>\n",
       "      <td>http://www.thedivergentseries.movie/#insurgent</td>\n",
       "      <td>Robert Schwentke</td>\n",
       "      <td>...</td>\n",
       "      <td>Adventure|Science Fiction|Thriller</td>\n",
       "      <td>Summit Entertainment|Mandeville Films|Red Wago...</td>\n",
       "      <td>2015-03-18</td>\n",
       "      <td>2480</td>\n",
       "      <td>6.3</td>\n",
       "      <td>2015</td>\n",
       "      <td>1.012000e+08</td>\n",
       "      <td>2.716190e+08</td>\n",
       "      <td>1.852382e+08</td>\n",
       "      <td>High</td>\n",
       "    </tr>\n",
       "    <tr>\n",
       "      <th>3</th>\n",
       "      <td>3</td>\n",
       "      <td>140607</td>\n",
       "      <td>tt2488496</td>\n",
       "      <td>11.173104</td>\n",
       "      <td>200000000.0</td>\n",
       "      <td>2.068178e+09</td>\n",
       "      <td>Star Wars: The Force Awakens</td>\n",
       "      <td>Harrison Ford|Mark Hamill|Carrie Fisher|Adam D...</td>\n",
       "      <td>http://www.starwars.com/films/star-wars-episod...</td>\n",
       "      <td>J.J. Abrams</td>\n",
       "      <td>...</td>\n",
       "      <td>Action|Adventure|Science Fiction|Fantasy</td>\n",
       "      <td>Lucasfilm|Truenorth Productions|Bad Robot</td>\n",
       "      <td>2015-12-15</td>\n",
       "      <td>5292</td>\n",
       "      <td>7.5</td>\n",
       "      <td>2015</td>\n",
       "      <td>1.839999e+08</td>\n",
       "      <td>1.902723e+09</td>\n",
       "      <td>1.868178e+09</td>\n",
       "      <td>High</td>\n",
       "    </tr>\n",
       "    <tr>\n",
       "      <th>4</th>\n",
       "      <td>4</td>\n",
       "      <td>168259</td>\n",
       "      <td>tt2820852</td>\n",
       "      <td>9.335014</td>\n",
       "      <td>190000000.0</td>\n",
       "      <td>1.506249e+09</td>\n",
       "      <td>Furious 7</td>\n",
       "      <td>Vin Diesel|Paul Walker|Jason Statham|Michelle ...</td>\n",
       "      <td>http://www.furious7.com/</td>\n",
       "      <td>James Wan</td>\n",
       "      <td>...</td>\n",
       "      <td>Action|Crime|Thriller</td>\n",
       "      <td>Universal Pictures|Original Film|Media Rights ...</td>\n",
       "      <td>2015-04-01</td>\n",
       "      <td>2947</td>\n",
       "      <td>7.3</td>\n",
       "      <td>2015</td>\n",
       "      <td>1.747999e+08</td>\n",
       "      <td>1.385749e+09</td>\n",
       "      <td>1.316249e+09</td>\n",
       "      <td>High</td>\n",
       "    </tr>\n",
       "  </tbody>\n",
       "</table>\n",
       "<p>5 rows × 24 columns</p>\n",
       "</div>"
      ],
      "text/plain": [
       "   Unnamed: 0      id    imdb_id  popularity       budget       revenue  \\\n",
       "0           0  135397  tt0369610   32.985763  150000000.0  1.513529e+09   \n",
       "1           1   76341  tt1392190   28.419936  150000000.0  3.784364e+08   \n",
       "2           2  262500  tt2908446   13.112507  110000000.0  2.952382e+08   \n",
       "3           3  140607  tt2488496   11.173104  200000000.0  2.068178e+09   \n",
       "4           4  168259  tt2820852    9.335014  190000000.0  1.506249e+09   \n",
       "\n",
       "                 original_title  \\\n",
       "0                Jurassic World   \n",
       "1            Mad Max: Fury Road   \n",
       "2                     Insurgent   \n",
       "3  Star Wars: The Force Awakens   \n",
       "4                     Furious 7   \n",
       "\n",
       "                                                cast  \\\n",
       "0  Chris Pratt|Bryce Dallas Howard|Irrfan Khan|Vi...   \n",
       "1  Tom Hardy|Charlize Theron|Hugh Keays-Byrne|Nic...   \n",
       "2  Shailene Woodley|Theo James|Kate Winslet|Ansel...   \n",
       "3  Harrison Ford|Mark Hamill|Carrie Fisher|Adam D...   \n",
       "4  Vin Diesel|Paul Walker|Jason Statham|Michelle ...   \n",
       "\n",
       "                                            homepage          director  ...  \\\n",
       "0                      http://www.jurassicworld.com/   Colin Trevorrow  ...   \n",
       "1                        http://www.madmaxmovie.com/     George Miller  ...   \n",
       "2     http://www.thedivergentseries.movie/#insurgent  Robert Schwentke  ...   \n",
       "3  http://www.starwars.com/films/star-wars-episod...       J.J. Abrams  ...   \n",
       "4                           http://www.furious7.com/         James Wan  ...   \n",
       "\n",
       "                                      genres  \\\n",
       "0  Action|Adventure|Science Fiction|Thriller   \n",
       "1  Action|Adventure|Science Fiction|Thriller   \n",
       "2         Adventure|Science Fiction|Thriller   \n",
       "3   Action|Adventure|Science Fiction|Fantasy   \n",
       "4                      Action|Crime|Thriller   \n",
       "\n",
       "                                production_companies release_date  vote_count  \\\n",
       "0  Universal Studios|Amblin Entertainment|Legenda...   2015-06-09        5562   \n",
       "1  Village Roadshow Pictures|Kennedy Miller Produ...   2015-05-13        6185   \n",
       "2  Summit Entertainment|Mandeville Films|Red Wago...   2015-03-18        2480   \n",
       "3          Lucasfilm|Truenorth Productions|Bad Robot   2015-12-15        5292   \n",
       "4  Universal Pictures|Original Film|Media Rights ...   2015-04-01        2947   \n",
       "\n",
       "  vote_average release_year    budget_adj   revenue_adj        profit  \\\n",
       "0          6.5         2015  1.379999e+08  1.392446e+09  1.363529e+09   \n",
       "1          7.1         2015  1.379999e+08  3.481613e+08  2.284364e+08   \n",
       "2          6.3         2015  1.012000e+08  2.716190e+08  1.852382e+08   \n",
       "3          7.5         2015  1.839999e+08  1.902723e+09  1.868178e+09   \n",
       "4          7.3         2015  1.747999e+08  1.385749e+09  1.316249e+09   \n",
       "\n",
       "   popularity_level  \n",
       "0              High  \n",
       "1              High  \n",
       "2              High  \n",
       "3              High  \n",
       "4              High  \n",
       "\n",
       "[5 rows x 24 columns]"
      ]
     },
     "execution_count": 3,
     "metadata": {},
     "output_type": "execute_result"
    }
   ],
   "source": [
    "movies.head()"
   ]
  },
  {
   "cell_type": "code",
   "execution_count": 4,
   "id": "4d993261",
   "metadata": {},
   "outputs": [
    {
     "name": "stdout",
     "output_type": "stream",
     "text": [
      "<class 'pandas.core.frame.DataFrame'>\n",
      "RangeIndex: 1287 entries, 0 to 1286\n",
      "Data columns (total 24 columns):\n",
      " #   Column                Non-Null Count  Dtype  \n",
      "---  ------                --------------  -----  \n",
      " 0   Unnamed: 0            1287 non-null   int64  \n",
      " 1   id                    1287 non-null   int64  \n",
      " 2   imdb_id               1287 non-null   object \n",
      " 3   popularity            1287 non-null   float64\n",
      " 4   budget                1287 non-null   float64\n",
      " 5   revenue               1287 non-null   float64\n",
      " 6   original_title        1287 non-null   object \n",
      " 7   cast                  1287 non-null   object \n",
      " 8   homepage              1287 non-null   object \n",
      " 9   director              1287 non-null   object \n",
      " 10  tagline               1287 non-null   object \n",
      " 11  keywords              1287 non-null   object \n",
      " 12  overview              1287 non-null   object \n",
      " 13  runtime               1287 non-null   int64  \n",
      " 14  genres                1287 non-null   object \n",
      " 15  production_companies  1287 non-null   object \n",
      " 16  release_date          1287 non-null   object \n",
      " 17  vote_count            1287 non-null   int64  \n",
      " 18  vote_average          1287 non-null   float64\n",
      " 19  release_year          1287 non-null   int64  \n",
      " 20  budget_adj            1287 non-null   float64\n",
      " 21  revenue_adj           1287 non-null   float64\n",
      " 22  profit                1287 non-null   float64\n",
      " 23  popularity_level      1286 non-null   object \n",
      "dtypes: float64(7), int64(5), object(12)\n",
      "memory usage: 241.4+ KB\n"
     ]
    }
   ],
   "source": [
    "movies.info()"
   ]
  },
  {
   "cell_type": "code",
   "execution_count": 5,
   "id": "f4a026b7",
   "metadata": {},
   "outputs": [
    {
     "data": {
      "text/html": [
       "<div>\n",
       "<style scoped>\n",
       "    .dataframe tbody tr th:only-of-type {\n",
       "        vertical-align: middle;\n",
       "    }\n",
       "\n",
       "    .dataframe tbody tr th {\n",
       "        vertical-align: top;\n",
       "    }\n",
       "\n",
       "    .dataframe thead th {\n",
       "        text-align: right;\n",
       "    }\n",
       "</style>\n",
       "<table border=\"1\" class=\"dataframe\">\n",
       "  <thead>\n",
       "    <tr style=\"text-align: right;\">\n",
       "      <th></th>\n",
       "      <th>Unnamed: 0</th>\n",
       "      <th>id</th>\n",
       "      <th>popularity</th>\n",
       "      <th>budget</th>\n",
       "      <th>revenue</th>\n",
       "      <th>runtime</th>\n",
       "      <th>vote_count</th>\n",
       "      <th>vote_average</th>\n",
       "      <th>release_year</th>\n",
       "      <th>budget_adj</th>\n",
       "      <th>revenue_adj</th>\n",
       "      <th>profit</th>\n",
       "    </tr>\n",
       "  </thead>\n",
       "  <tbody>\n",
       "    <tr>\n",
       "      <th>count</th>\n",
       "      <td>1287.000000</td>\n",
       "      <td>1287.000000</td>\n",
       "      <td>1287.000000</td>\n",
       "      <td>1.287000e+03</td>\n",
       "      <td>1.287000e+03</td>\n",
       "      <td>1287.000000</td>\n",
       "      <td>1287.000000</td>\n",
       "      <td>1287.000000</td>\n",
       "      <td>1287.000000</td>\n",
       "      <td>1.287000e+03</td>\n",
       "      <td>1.287000e+03</td>\n",
       "      <td>1.287000e+03</td>\n",
       "    </tr>\n",
       "    <tr>\n",
       "      <th>mean</th>\n",
       "      <td>4125.843046</td>\n",
       "      <td>52557.491064</td>\n",
       "      <td>1.786022</td>\n",
       "      <td>5.200349e+07</td>\n",
       "      <td>1.762444e+08</td>\n",
       "      <td>110.273504</td>\n",
       "      <td>947.266511</td>\n",
       "      <td>6.279487</td>\n",
       "      <td>2007.017094</td>\n",
       "      <td>5.462994e+07</td>\n",
       "      <td>1.991775e+08</td>\n",
       "      <td>1.242409e+08</td>\n",
       "    </tr>\n",
       "    <tr>\n",
       "      <th>std</th>\n",
       "      <td>2671.936574</td>\n",
       "      <td>74450.077163</td>\n",
       "      <td>2.172137</td>\n",
       "      <td>5.514540e+07</td>\n",
       "      <td>2.538156e+08</td>\n",
       "      <td>18.811369</td>\n",
       "      <td>1255.476215</td>\n",
       "      <td>0.795955</td>\n",
       "      <td>8.060503</td>\n",
       "      <td>5.525463e+07</td>\n",
       "      <td>2.968515e+08</td>\n",
       "      <td>2.183462e+08</td>\n",
       "    </tr>\n",
       "    <tr>\n",
       "      <th>min</th>\n",
       "      <td>0.000000</td>\n",
       "      <td>11.000000</td>\n",
       "      <td>0.010335</td>\n",
       "      <td>1.000000e+00</td>\n",
       "      <td>4.300000e+01</td>\n",
       "      <td>63.000000</td>\n",
       "      <td>10.000000</td>\n",
       "      <td>2.200000</td>\n",
       "      <td>1961.000000</td>\n",
       "      <td>9.693980e-01</td>\n",
       "      <td>4.300000e+01</td>\n",
       "      <td>-4.139124e+08</td>\n",
       "    </tr>\n",
       "    <tr>\n",
       "      <th>25%</th>\n",
       "      <td>1972.000000</td>\n",
       "      <td>5851.500000</td>\n",
       "      <td>0.664783</td>\n",
       "      <td>1.400000e+07</td>\n",
       "      <td>2.565097e+07</td>\n",
       "      <td>97.000000</td>\n",
       "      <td>179.000000</td>\n",
       "      <td>5.800000</td>\n",
       "      <td>2005.000000</td>\n",
       "      <td>1.519180e+07</td>\n",
       "      <td>2.764890e+07</td>\n",
       "      <td>3.142641e+06</td>\n",
       "    </tr>\n",
       "    <tr>\n",
       "      <th>50%</th>\n",
       "      <td>3523.000000</td>\n",
       "      <td>20178.000000</td>\n",
       "      <td>1.152354</td>\n",
       "      <td>3.200000e+07</td>\n",
       "      <td>8.208716e+07</td>\n",
       "      <td>107.000000</td>\n",
       "      <td>439.000000</td>\n",
       "      <td>6.300000</td>\n",
       "      <td>2009.000000</td>\n",
       "      <td>3.556927e+07</td>\n",
       "      <td>8.674770e+07</td>\n",
       "      <td>4.524300e+07</td>\n",
       "    </tr>\n",
       "    <tr>\n",
       "      <th>75%</th>\n",
       "      <td>6554.500000</td>\n",
       "      <td>62209.500000</td>\n",
       "      <td>2.125342</td>\n",
       "      <td>7.000000e+07</td>\n",
       "      <td>2.140694e+08</td>\n",
       "      <td>121.000000</td>\n",
       "      <td>1173.000000</td>\n",
       "      <td>6.800000</td>\n",
       "      <td>2011.000000</td>\n",
       "      <td>7.630125e+07</td>\n",
       "      <td>2.351178e+08</td>\n",
       "      <td>1.470070e+08</td>\n",
       "    </tr>\n",
       "    <tr>\n",
       "      <th>max</th>\n",
       "      <td>10760.000000</td>\n",
       "      <td>333348.000000</td>\n",
       "      <td>32.985763</td>\n",
       "      <td>4.250000e+08</td>\n",
       "      <td>2.781506e+09</td>\n",
       "      <td>201.000000</td>\n",
       "      <td>9767.000000</td>\n",
       "      <td>8.300000</td>\n",
       "      <td>2015.000000</td>\n",
       "      <td>4.250000e+08</td>\n",
       "      <td>2.827124e+09</td>\n",
       "      <td>2.544506e+09</td>\n",
       "    </tr>\n",
       "  </tbody>\n",
       "</table>\n",
       "</div>"
      ],
      "text/plain": [
       "         Unnamed: 0             id   popularity        budget       revenue  \\\n",
       "count   1287.000000    1287.000000  1287.000000  1.287000e+03  1.287000e+03   \n",
       "mean    4125.843046   52557.491064     1.786022  5.200349e+07  1.762444e+08   \n",
       "std     2671.936574   74450.077163     2.172137  5.514540e+07  2.538156e+08   \n",
       "min        0.000000      11.000000     0.010335  1.000000e+00  4.300000e+01   \n",
       "25%     1972.000000    5851.500000     0.664783  1.400000e+07  2.565097e+07   \n",
       "50%     3523.000000   20178.000000     1.152354  3.200000e+07  8.208716e+07   \n",
       "75%     6554.500000   62209.500000     2.125342  7.000000e+07  2.140694e+08   \n",
       "max    10760.000000  333348.000000    32.985763  4.250000e+08  2.781506e+09   \n",
       "\n",
       "           runtime   vote_count  vote_average  release_year    budget_adj  \\\n",
       "count  1287.000000  1287.000000   1287.000000   1287.000000  1.287000e+03   \n",
       "mean    110.273504   947.266511      6.279487   2007.017094  5.462994e+07   \n",
       "std      18.811369  1255.476215      0.795955      8.060503  5.525463e+07   \n",
       "min      63.000000    10.000000      2.200000   1961.000000  9.693980e-01   \n",
       "25%      97.000000   179.000000      5.800000   2005.000000  1.519180e+07   \n",
       "50%     107.000000   439.000000      6.300000   2009.000000  3.556927e+07   \n",
       "75%     121.000000  1173.000000      6.800000   2011.000000  7.630125e+07   \n",
       "max     201.000000  9767.000000      8.300000   2015.000000  4.250000e+08   \n",
       "\n",
       "        revenue_adj        profit  \n",
       "count  1.287000e+03  1.287000e+03  \n",
       "mean   1.991775e+08  1.242409e+08  \n",
       "std    2.968515e+08  2.183462e+08  \n",
       "min    4.300000e+01 -4.139124e+08  \n",
       "25%    2.764890e+07  3.142641e+06  \n",
       "50%    8.674770e+07  4.524300e+07  \n",
       "75%    2.351178e+08  1.470070e+08  \n",
       "max    2.827124e+09  2.544506e+09  "
      ]
     },
     "execution_count": 5,
     "metadata": {},
     "output_type": "execute_result"
    }
   ],
   "source": [
    "movies.describe()"
   ]
  },
  {
   "cell_type": "code",
   "execution_count": 6,
   "id": "fe8e3d7c",
   "metadata": {},
   "outputs": [
    {
     "data": {
      "text/plain": [
       "Unnamed: 0              0\n",
       "id                      0\n",
       "imdb_id                 0\n",
       "popularity              0\n",
       "budget                  0\n",
       "revenue                 0\n",
       "original_title          0\n",
       "cast                    0\n",
       "homepage                0\n",
       "director                0\n",
       "tagline                 0\n",
       "keywords                0\n",
       "overview                0\n",
       "runtime                 0\n",
       "genres                  0\n",
       "production_companies    0\n",
       "release_date            0\n",
       "vote_count              0\n",
       "vote_average            0\n",
       "release_year            0\n",
       "budget_adj              0\n",
       "revenue_adj             0\n",
       "profit                  0\n",
       "popularity_level        1\n",
       "dtype: int64"
      ]
     },
     "execution_count": 6,
     "metadata": {},
     "output_type": "execute_result"
    }
   ],
   "source": [
    "movies.isnull().sum()\n"
   ]
  },
  {
   "cell_type": "code",
   "execution_count": 7,
   "id": "1b6a502a",
   "metadata": {},
   "outputs": [],
   "source": [
    "movies=movies[['id','original_title','revenue','cast','director','overview','genres','profit']]"
   ]
  },
  {
   "cell_type": "code",
   "execution_count": 8,
   "id": "30e7ceaa",
   "metadata": {},
   "outputs": [
    {
     "data": {
      "text/html": [
       "<div>\n",
       "<style scoped>\n",
       "    .dataframe tbody tr th:only-of-type {\n",
       "        vertical-align: middle;\n",
       "    }\n",
       "\n",
       "    .dataframe tbody tr th {\n",
       "        vertical-align: top;\n",
       "    }\n",
       "\n",
       "    .dataframe thead th {\n",
       "        text-align: right;\n",
       "    }\n",
       "</style>\n",
       "<table border=\"1\" class=\"dataframe\">\n",
       "  <thead>\n",
       "    <tr style=\"text-align: right;\">\n",
       "      <th></th>\n",
       "      <th>id</th>\n",
       "      <th>original_title</th>\n",
       "      <th>revenue</th>\n",
       "      <th>cast</th>\n",
       "      <th>director</th>\n",
       "      <th>overview</th>\n",
       "      <th>genres</th>\n",
       "      <th>profit</th>\n",
       "    </tr>\n",
       "  </thead>\n",
       "  <tbody>\n",
       "    <tr>\n",
       "      <th>0</th>\n",
       "      <td>135397</td>\n",
       "      <td>Jurassic World</td>\n",
       "      <td>1.513529e+09</td>\n",
       "      <td>Chris Pratt|Bryce Dallas Howard|Irrfan Khan|Vi...</td>\n",
       "      <td>Colin Trevorrow</td>\n",
       "      <td>Twenty-two years after the events of Jurassic ...</td>\n",
       "      <td>Action|Adventure|Science Fiction|Thriller</td>\n",
       "      <td>1.363529e+09</td>\n",
       "    </tr>\n",
       "    <tr>\n",
       "      <th>1</th>\n",
       "      <td>76341</td>\n",
       "      <td>Mad Max: Fury Road</td>\n",
       "      <td>3.784364e+08</td>\n",
       "      <td>Tom Hardy|Charlize Theron|Hugh Keays-Byrne|Nic...</td>\n",
       "      <td>George Miller</td>\n",
       "      <td>An apocalyptic story set in the furthest reach...</td>\n",
       "      <td>Action|Adventure|Science Fiction|Thriller</td>\n",
       "      <td>2.284364e+08</td>\n",
       "    </tr>\n",
       "    <tr>\n",
       "      <th>2</th>\n",
       "      <td>262500</td>\n",
       "      <td>Insurgent</td>\n",
       "      <td>2.952382e+08</td>\n",
       "      <td>Shailene Woodley|Theo James|Kate Winslet|Ansel...</td>\n",
       "      <td>Robert Schwentke</td>\n",
       "      <td>Beatrice Prior must confront her inner demons ...</td>\n",
       "      <td>Adventure|Science Fiction|Thriller</td>\n",
       "      <td>1.852382e+08</td>\n",
       "    </tr>\n",
       "    <tr>\n",
       "      <th>3</th>\n",
       "      <td>140607</td>\n",
       "      <td>Star Wars: The Force Awakens</td>\n",
       "      <td>2.068178e+09</td>\n",
       "      <td>Harrison Ford|Mark Hamill|Carrie Fisher|Adam D...</td>\n",
       "      <td>J.J. Abrams</td>\n",
       "      <td>Thirty years after defeating the Galactic Empi...</td>\n",
       "      <td>Action|Adventure|Science Fiction|Fantasy</td>\n",
       "      <td>1.868178e+09</td>\n",
       "    </tr>\n",
       "    <tr>\n",
       "      <th>4</th>\n",
       "      <td>168259</td>\n",
       "      <td>Furious 7</td>\n",
       "      <td>1.506249e+09</td>\n",
       "      <td>Vin Diesel|Paul Walker|Jason Statham|Michelle ...</td>\n",
       "      <td>James Wan</td>\n",
       "      <td>Deckard Shaw seeks revenge against Dominic Tor...</td>\n",
       "      <td>Action|Crime|Thriller</td>\n",
       "      <td>1.316249e+09</td>\n",
       "    </tr>\n",
       "  </tbody>\n",
       "</table>\n",
       "</div>"
      ],
      "text/plain": [
       "       id                original_title       revenue  \\\n",
       "0  135397                Jurassic World  1.513529e+09   \n",
       "1   76341            Mad Max: Fury Road  3.784364e+08   \n",
       "2  262500                     Insurgent  2.952382e+08   \n",
       "3  140607  Star Wars: The Force Awakens  2.068178e+09   \n",
       "4  168259                     Furious 7  1.506249e+09   \n",
       "\n",
       "                                                cast          director  \\\n",
       "0  Chris Pratt|Bryce Dallas Howard|Irrfan Khan|Vi...   Colin Trevorrow   \n",
       "1  Tom Hardy|Charlize Theron|Hugh Keays-Byrne|Nic...     George Miller   \n",
       "2  Shailene Woodley|Theo James|Kate Winslet|Ansel...  Robert Schwentke   \n",
       "3  Harrison Ford|Mark Hamill|Carrie Fisher|Adam D...       J.J. Abrams   \n",
       "4  Vin Diesel|Paul Walker|Jason Statham|Michelle ...         James Wan   \n",
       "\n",
       "                                            overview  \\\n",
       "0  Twenty-two years after the events of Jurassic ...   \n",
       "1  An apocalyptic story set in the furthest reach...   \n",
       "2  Beatrice Prior must confront her inner demons ...   \n",
       "3  Thirty years after defeating the Galactic Empi...   \n",
       "4  Deckard Shaw seeks revenge against Dominic Tor...   \n",
       "\n",
       "                                      genres        profit  \n",
       "0  Action|Adventure|Science Fiction|Thriller  1.363529e+09  \n",
       "1  Action|Adventure|Science Fiction|Thriller  2.284364e+08  \n",
       "2         Adventure|Science Fiction|Thriller  1.852382e+08  \n",
       "3   Action|Adventure|Science Fiction|Fantasy  1.868178e+09  \n",
       "4                      Action|Crime|Thriller  1.316249e+09  "
      ]
     },
     "execution_count": 8,
     "metadata": {},
     "output_type": "execute_result"
    }
   ],
   "source": [
    "movies.head()"
   ]
  },
  {
   "cell_type": "code",
   "execution_count": null,
   "id": "5d446cb6",
   "metadata": {},
   "outputs": [],
   "source": []
  },
  {
   "cell_type": "code",
   "execution_count": 9,
   "id": "82fb1a5f",
   "metadata": {},
   "outputs": [
    {
     "data": {
      "text/plain": [
       "0"
      ]
     },
     "execution_count": 9,
     "metadata": {},
     "output_type": "execute_result"
    }
   ],
   "source": [
    "movies.duplicated().sum()"
   ]
  },
  {
   "cell_type": "code",
   "execution_count": 10,
   "id": "0ec2553d",
   "metadata": {},
   "outputs": [
    {
     "data": {
      "text/plain": [
       "'Action|Adventure|Science Fiction|Thriller'"
      ]
     },
     "execution_count": 10,
     "metadata": {},
     "output_type": "execute_result"
    }
   ],
   "source": [
    "movies.iloc[0].genres"
   ]
  },
  {
   "cell_type": "code",
   "execution_count": 11,
   "id": "0d761595",
   "metadata": {},
   "outputs": [],
   "source": [
    "def convert(obj):\n",
    "    l=obj.split('|')\n",
    "    return l  \n"
   ]
  },
  {
   "cell_type": "code",
   "execution_count": 12,
   "id": "e363f9af",
   "metadata": {},
   "outputs": [
    {
     "data": {
      "text/html": [
       "<div>\n",
       "<style scoped>\n",
       "    .dataframe tbody tr th:only-of-type {\n",
       "        vertical-align: middle;\n",
       "    }\n",
       "\n",
       "    .dataframe tbody tr th {\n",
       "        vertical-align: top;\n",
       "    }\n",
       "\n",
       "    .dataframe thead th {\n",
       "        text-align: right;\n",
       "    }\n",
       "</style>\n",
       "<table border=\"1\" class=\"dataframe\">\n",
       "  <thead>\n",
       "    <tr style=\"text-align: right;\">\n",
       "      <th></th>\n",
       "      <th>id</th>\n",
       "      <th>original_title</th>\n",
       "      <th>revenue</th>\n",
       "      <th>cast</th>\n",
       "      <th>director</th>\n",
       "      <th>overview</th>\n",
       "      <th>genres</th>\n",
       "      <th>profit</th>\n",
       "    </tr>\n",
       "  </thead>\n",
       "  <tbody>\n",
       "    <tr>\n",
       "      <th>0</th>\n",
       "      <td>135397</td>\n",
       "      <td>Jurassic World</td>\n",
       "      <td>1.513529e+09</td>\n",
       "      <td>Chris Pratt|Bryce Dallas Howard|Irrfan Khan|Vi...</td>\n",
       "      <td>Colin Trevorrow</td>\n",
       "      <td>Twenty-two years after the events of Jurassic ...</td>\n",
       "      <td>Action|Adventure|Science Fiction|Thriller</td>\n",
       "      <td>1.363529e+09</td>\n",
       "    </tr>\n",
       "    <tr>\n",
       "      <th>1</th>\n",
       "      <td>76341</td>\n",
       "      <td>Mad Max: Fury Road</td>\n",
       "      <td>3.784364e+08</td>\n",
       "      <td>Tom Hardy|Charlize Theron|Hugh Keays-Byrne|Nic...</td>\n",
       "      <td>George Miller</td>\n",
       "      <td>An apocalyptic story set in the furthest reach...</td>\n",
       "      <td>Action|Adventure|Science Fiction|Thriller</td>\n",
       "      <td>2.284364e+08</td>\n",
       "    </tr>\n",
       "    <tr>\n",
       "      <th>2</th>\n",
       "      <td>262500</td>\n",
       "      <td>Insurgent</td>\n",
       "      <td>2.952382e+08</td>\n",
       "      <td>Shailene Woodley|Theo James|Kate Winslet|Ansel...</td>\n",
       "      <td>Robert Schwentke</td>\n",
       "      <td>Beatrice Prior must confront her inner demons ...</td>\n",
       "      <td>Adventure|Science Fiction|Thriller</td>\n",
       "      <td>1.852382e+08</td>\n",
       "    </tr>\n",
       "    <tr>\n",
       "      <th>3</th>\n",
       "      <td>140607</td>\n",
       "      <td>Star Wars: The Force Awakens</td>\n",
       "      <td>2.068178e+09</td>\n",
       "      <td>Harrison Ford|Mark Hamill|Carrie Fisher|Adam D...</td>\n",
       "      <td>J.J. Abrams</td>\n",
       "      <td>Thirty years after defeating the Galactic Empi...</td>\n",
       "      <td>Action|Adventure|Science Fiction|Fantasy</td>\n",
       "      <td>1.868178e+09</td>\n",
       "    </tr>\n",
       "    <tr>\n",
       "      <th>4</th>\n",
       "      <td>168259</td>\n",
       "      <td>Furious 7</td>\n",
       "      <td>1.506249e+09</td>\n",
       "      <td>Vin Diesel|Paul Walker|Jason Statham|Michelle ...</td>\n",
       "      <td>James Wan</td>\n",
       "      <td>Deckard Shaw seeks revenge against Dominic Tor...</td>\n",
       "      <td>Action|Crime|Thriller</td>\n",
       "      <td>1.316249e+09</td>\n",
       "    </tr>\n",
       "  </tbody>\n",
       "</table>\n",
       "</div>"
      ],
      "text/plain": [
       "       id                original_title       revenue  \\\n",
       "0  135397                Jurassic World  1.513529e+09   \n",
       "1   76341            Mad Max: Fury Road  3.784364e+08   \n",
       "2  262500                     Insurgent  2.952382e+08   \n",
       "3  140607  Star Wars: The Force Awakens  2.068178e+09   \n",
       "4  168259                     Furious 7  1.506249e+09   \n",
       "\n",
       "                                                cast          director  \\\n",
       "0  Chris Pratt|Bryce Dallas Howard|Irrfan Khan|Vi...   Colin Trevorrow   \n",
       "1  Tom Hardy|Charlize Theron|Hugh Keays-Byrne|Nic...     George Miller   \n",
       "2  Shailene Woodley|Theo James|Kate Winslet|Ansel...  Robert Schwentke   \n",
       "3  Harrison Ford|Mark Hamill|Carrie Fisher|Adam D...       J.J. Abrams   \n",
       "4  Vin Diesel|Paul Walker|Jason Statham|Michelle ...         James Wan   \n",
       "\n",
       "                                            overview  \\\n",
       "0  Twenty-two years after the events of Jurassic ...   \n",
       "1  An apocalyptic story set in the furthest reach...   \n",
       "2  Beatrice Prior must confront her inner demons ...   \n",
       "3  Thirty years after defeating the Galactic Empi...   \n",
       "4  Deckard Shaw seeks revenge against Dominic Tor...   \n",
       "\n",
       "                                      genres        profit  \n",
       "0  Action|Adventure|Science Fiction|Thriller  1.363529e+09  \n",
       "1  Action|Adventure|Science Fiction|Thriller  2.284364e+08  \n",
       "2         Adventure|Science Fiction|Thriller  1.852382e+08  \n",
       "3   Action|Adventure|Science Fiction|Fantasy  1.868178e+09  \n",
       "4                      Action|Crime|Thriller  1.316249e+09  "
      ]
     },
     "execution_count": 12,
     "metadata": {},
     "output_type": "execute_result"
    }
   ],
   "source": [
    "movies.head()"
   ]
  },
  {
   "cell_type": "code",
   "execution_count": 13,
   "id": "acceb6f9",
   "metadata": {},
   "outputs": [
    {
     "data": {
      "text/plain": [
       "'Action|Adventure|Science Fiction|Thriller'"
      ]
     },
     "execution_count": 13,
     "metadata": {},
     "output_type": "execute_result"
    }
   ],
   "source": [
    "movies.iloc[0].genres"
   ]
  },
  {
   "cell_type": "code",
   "execution_count": 14,
   "id": "bbedd140",
   "metadata": {},
   "outputs": [
    {
     "data": {
      "text/plain": [
       "\"Chris Pratt|Bryce Dallas Howard|Irrfan Khan|Vincent D'Onofrio|Nick Robinson\""
      ]
     },
     "execution_count": 14,
     "metadata": {},
     "output_type": "execute_result"
    }
   ],
   "source": [
    "movies.iloc[0].cast"
   ]
  },
  {
   "cell_type": "code",
   "execution_count": 15,
   "id": "039e3afc",
   "metadata": {},
   "outputs": [],
   "source": [
    "movies['cast']= movies['cast'].apply(convert) \n",
    "movies['genres']= movies['genres'].apply(convert) \n"
   ]
  },
  {
   "cell_type": "code",
   "execution_count": 23,
   "id": "13c8496a",
   "metadata": {},
   "outputs": [],
   "source": [
    "movies['director']= movies['director'].apply(convert) "
   ]
  },
  {
   "cell_type": "code",
   "execution_count": 17,
   "id": "a82c7e71",
   "metadata": {},
   "outputs": [],
   "source": [
    "movies['overview']= movies['overview'].apply(lambda x: x.split()) "
   ]
  },
  {
   "cell_type": "code",
   "execution_count": 18,
   "id": "ee8b1912",
   "metadata": {},
   "outputs": [],
   "source": [
    "movies['genres']= movies['genres'].apply(lambda x:[i.replace(\" \",\"\") for i in x]) \n",
    "\n",
    "movies['cast']= movies['cast'].apply(lambda x:[i.replace(\" \",\"\") for i in x]) \n",
    "movies['overview']= movies['overview'].apply(lambda x:[i.replace(\" \",\"\") for i in x]) "
   ]
  },
  {
   "cell_type": "code",
   "execution_count": 24,
   "id": "5bed7804",
   "metadata": {},
   "outputs": [
    {
     "data": {
      "text/html": [
       "<div>\n",
       "<style scoped>\n",
       "    .dataframe tbody tr th:only-of-type {\n",
       "        vertical-align: middle;\n",
       "    }\n",
       "\n",
       "    .dataframe tbody tr th {\n",
       "        vertical-align: top;\n",
       "    }\n",
       "\n",
       "    .dataframe thead th {\n",
       "        text-align: right;\n",
       "    }\n",
       "</style>\n",
       "<table border=\"1\" class=\"dataframe\">\n",
       "  <thead>\n",
       "    <tr style=\"text-align: right;\">\n",
       "      <th></th>\n",
       "      <th>id</th>\n",
       "      <th>original_title</th>\n",
       "      <th>revenue</th>\n",
       "      <th>cast</th>\n",
       "      <th>director</th>\n",
       "      <th>overview</th>\n",
       "      <th>genres</th>\n",
       "      <th>profit</th>\n",
       "      <th>tags</th>\n",
       "    </tr>\n",
       "  </thead>\n",
       "  <tbody>\n",
       "    <tr>\n",
       "      <th>0</th>\n",
       "      <td>135397</td>\n",
       "      <td>Jurassic World</td>\n",
       "      <td>1.513529e+09</td>\n",
       "      <td>[ChrisPratt, BryceDallasHoward, IrrfanKhan, Vi...</td>\n",
       "      <td>[Colin Trevorrow]</td>\n",
       "      <td>[Twenty-two, years, after, the, events, of, Ju...</td>\n",
       "      <td>[Action, Adventure, ScienceFiction, Thriller]</td>\n",
       "      <td>1.363529e+09</td>\n",
       "      <td>[ChrisPratt, BryceDallasHoward, IrrfanKhan, Vi...</td>\n",
       "    </tr>\n",
       "    <tr>\n",
       "      <th>1</th>\n",
       "      <td>76341</td>\n",
       "      <td>Mad Max: Fury Road</td>\n",
       "      <td>3.784364e+08</td>\n",
       "      <td>[TomHardy, CharlizeTheron, HughKeays-Byrne, Ni...</td>\n",
       "      <td>[George Miller]</td>\n",
       "      <td>[An, apocalyptic, story, set, in, the, furthes...</td>\n",
       "      <td>[Action, Adventure, ScienceFiction, Thriller]</td>\n",
       "      <td>2.284364e+08</td>\n",
       "      <td>[TomHardy, CharlizeTheron, HughKeays-Byrne, Ni...</td>\n",
       "    </tr>\n",
       "    <tr>\n",
       "      <th>2</th>\n",
       "      <td>262500</td>\n",
       "      <td>Insurgent</td>\n",
       "      <td>2.952382e+08</td>\n",
       "      <td>[ShaileneWoodley, TheoJames, KateWinslet, Anse...</td>\n",
       "      <td>[Robert Schwentke]</td>\n",
       "      <td>[Beatrice, Prior, must, confront, her, inner, ...</td>\n",
       "      <td>[Adventure, ScienceFiction, Thriller]</td>\n",
       "      <td>1.852382e+08</td>\n",
       "      <td>[ShaileneWoodley, TheoJames, KateWinslet, Anse...</td>\n",
       "    </tr>\n",
       "    <tr>\n",
       "      <th>3</th>\n",
       "      <td>140607</td>\n",
       "      <td>Star Wars: The Force Awakens</td>\n",
       "      <td>2.068178e+09</td>\n",
       "      <td>[HarrisonFord, MarkHamill, CarrieFisher, AdamD...</td>\n",
       "      <td>[J.J. Abrams]</td>\n",
       "      <td>[Thirty, years, after, defeating, the, Galacti...</td>\n",
       "      <td>[Action, Adventure, ScienceFiction, Fantasy]</td>\n",
       "      <td>1.868178e+09</td>\n",
       "      <td>[HarrisonFord, MarkHamill, CarrieFisher, AdamD...</td>\n",
       "    </tr>\n",
       "    <tr>\n",
       "      <th>4</th>\n",
       "      <td>168259</td>\n",
       "      <td>Furious 7</td>\n",
       "      <td>1.506249e+09</td>\n",
       "      <td>[VinDiesel, PaulWalker, JasonStatham, Michelle...</td>\n",
       "      <td>[James Wan]</td>\n",
       "      <td>[Deckard, Shaw, seeks, revenge, against, Domin...</td>\n",
       "      <td>[Action, Crime, Thriller]</td>\n",
       "      <td>1.316249e+09</td>\n",
       "      <td>[VinDiesel, PaulWalker, JasonStatham, Michelle...</td>\n",
       "    </tr>\n",
       "  </tbody>\n",
       "</table>\n",
       "</div>"
      ],
      "text/plain": [
       "       id                original_title       revenue  \\\n",
       "0  135397                Jurassic World  1.513529e+09   \n",
       "1   76341            Mad Max: Fury Road  3.784364e+08   \n",
       "2  262500                     Insurgent  2.952382e+08   \n",
       "3  140607  Star Wars: The Force Awakens  2.068178e+09   \n",
       "4  168259                     Furious 7  1.506249e+09   \n",
       "\n",
       "                                                cast            director  \\\n",
       "0  [ChrisPratt, BryceDallasHoward, IrrfanKhan, Vi...   [Colin Trevorrow]   \n",
       "1  [TomHardy, CharlizeTheron, HughKeays-Byrne, Ni...     [George Miller]   \n",
       "2  [ShaileneWoodley, TheoJames, KateWinslet, Anse...  [Robert Schwentke]   \n",
       "3  [HarrisonFord, MarkHamill, CarrieFisher, AdamD...       [J.J. Abrams]   \n",
       "4  [VinDiesel, PaulWalker, JasonStatham, Michelle...         [James Wan]   \n",
       "\n",
       "                                            overview  \\\n",
       "0  [Twenty-two, years, after, the, events, of, Ju...   \n",
       "1  [An, apocalyptic, story, set, in, the, furthes...   \n",
       "2  [Beatrice, Prior, must, confront, her, inner, ...   \n",
       "3  [Thirty, years, after, defeating, the, Galacti...   \n",
       "4  [Deckard, Shaw, seeks, revenge, against, Domin...   \n",
       "\n",
       "                                          genres        profit  \\\n",
       "0  [Action, Adventure, ScienceFiction, Thriller]  1.363529e+09   \n",
       "1  [Action, Adventure, ScienceFiction, Thriller]  2.284364e+08   \n",
       "2          [Adventure, ScienceFiction, Thriller]  1.852382e+08   \n",
       "3   [Action, Adventure, ScienceFiction, Fantasy]  1.868178e+09   \n",
       "4                      [Action, Crime, Thriller]  1.316249e+09   \n",
       "\n",
       "                                                tags  \n",
       "0  [ChrisPratt, BryceDallasHoward, IrrfanKhan, Vi...  \n",
       "1  [TomHardy, CharlizeTheron, HughKeays-Byrne, Ni...  \n",
       "2  [ShaileneWoodley, TheoJames, KateWinslet, Anse...  \n",
       "3  [HarrisonFord, MarkHamill, CarrieFisher, AdamD...  \n",
       "4  [VinDiesel, PaulWalker, JasonStatham, Michelle...  "
      ]
     },
     "execution_count": 24,
     "metadata": {},
     "output_type": "execute_result"
    }
   ],
   "source": [
    "movies['director'] = movies['director'].replace(\" \",\"\") \n",
    "movies.head()"
   ]
  },
  {
   "cell_type": "code",
   "execution_count": 31,
   "id": "83f351be",
   "metadata": {},
   "outputs": [],
   "source": [
    "movies['tags'] = movies['cast']+movies['genres']+movies['overview']+movies['director']"
   ]
  },
  {
   "cell_type": "code",
   "execution_count": 32,
   "id": "3637d6dd",
   "metadata": {},
   "outputs": [
    {
     "data": {
      "text/html": [
       "<div>\n",
       "<style scoped>\n",
       "    .dataframe tbody tr th:only-of-type {\n",
       "        vertical-align: middle;\n",
       "    }\n",
       "\n",
       "    .dataframe tbody tr th {\n",
       "        vertical-align: top;\n",
       "    }\n",
       "\n",
       "    .dataframe thead th {\n",
       "        text-align: right;\n",
       "    }\n",
       "</style>\n",
       "<table border=\"1\" class=\"dataframe\">\n",
       "  <thead>\n",
       "    <tr style=\"text-align: right;\">\n",
       "      <th></th>\n",
       "      <th>id</th>\n",
       "      <th>original_title</th>\n",
       "      <th>revenue</th>\n",
       "      <th>cast</th>\n",
       "      <th>director</th>\n",
       "      <th>overview</th>\n",
       "      <th>genres</th>\n",
       "      <th>profit</th>\n",
       "      <th>tags</th>\n",
       "    </tr>\n",
       "  </thead>\n",
       "  <tbody>\n",
       "    <tr>\n",
       "      <th>0</th>\n",
       "      <td>135397</td>\n",
       "      <td>Jurassic World</td>\n",
       "      <td>1.513529e+09</td>\n",
       "      <td>[ChrisPratt, BryceDallasHoward, IrrfanKhan, Vi...</td>\n",
       "      <td>[Colin Trevorrow]</td>\n",
       "      <td>[Twenty-two, years, after, the, events, of, Ju...</td>\n",
       "      <td>[Action, Adventure, ScienceFiction, Thriller]</td>\n",
       "      <td>1.363529e+09</td>\n",
       "      <td>[ChrisPratt, BryceDallasHoward, IrrfanKhan, Vi...</td>\n",
       "    </tr>\n",
       "    <tr>\n",
       "      <th>1</th>\n",
       "      <td>76341</td>\n",
       "      <td>Mad Max: Fury Road</td>\n",
       "      <td>3.784364e+08</td>\n",
       "      <td>[TomHardy, CharlizeTheron, HughKeays-Byrne, Ni...</td>\n",
       "      <td>[George Miller]</td>\n",
       "      <td>[An, apocalyptic, story, set, in, the, furthes...</td>\n",
       "      <td>[Action, Adventure, ScienceFiction, Thriller]</td>\n",
       "      <td>2.284364e+08</td>\n",
       "      <td>[TomHardy, CharlizeTheron, HughKeays-Byrne, Ni...</td>\n",
       "    </tr>\n",
       "    <tr>\n",
       "      <th>2</th>\n",
       "      <td>262500</td>\n",
       "      <td>Insurgent</td>\n",
       "      <td>2.952382e+08</td>\n",
       "      <td>[ShaileneWoodley, TheoJames, KateWinslet, Anse...</td>\n",
       "      <td>[Robert Schwentke]</td>\n",
       "      <td>[Beatrice, Prior, must, confront, her, inner, ...</td>\n",
       "      <td>[Adventure, ScienceFiction, Thriller]</td>\n",
       "      <td>1.852382e+08</td>\n",
       "      <td>[ShaileneWoodley, TheoJames, KateWinslet, Anse...</td>\n",
       "    </tr>\n",
       "    <tr>\n",
       "      <th>3</th>\n",
       "      <td>140607</td>\n",
       "      <td>Star Wars: The Force Awakens</td>\n",
       "      <td>2.068178e+09</td>\n",
       "      <td>[HarrisonFord, MarkHamill, CarrieFisher, AdamD...</td>\n",
       "      <td>[J.J. Abrams]</td>\n",
       "      <td>[Thirty, years, after, defeating, the, Galacti...</td>\n",
       "      <td>[Action, Adventure, ScienceFiction, Fantasy]</td>\n",
       "      <td>1.868178e+09</td>\n",
       "      <td>[HarrisonFord, MarkHamill, CarrieFisher, AdamD...</td>\n",
       "    </tr>\n",
       "    <tr>\n",
       "      <th>4</th>\n",
       "      <td>168259</td>\n",
       "      <td>Furious 7</td>\n",
       "      <td>1.506249e+09</td>\n",
       "      <td>[VinDiesel, PaulWalker, JasonStatham, Michelle...</td>\n",
       "      <td>[James Wan]</td>\n",
       "      <td>[Deckard, Shaw, seeks, revenge, against, Domin...</td>\n",
       "      <td>[Action, Crime, Thriller]</td>\n",
       "      <td>1.316249e+09</td>\n",
       "      <td>[VinDiesel, PaulWalker, JasonStatham, Michelle...</td>\n",
       "    </tr>\n",
       "  </tbody>\n",
       "</table>\n",
       "</div>"
      ],
      "text/plain": [
       "       id                original_title       revenue  \\\n",
       "0  135397                Jurassic World  1.513529e+09   \n",
       "1   76341            Mad Max: Fury Road  3.784364e+08   \n",
       "2  262500                     Insurgent  2.952382e+08   \n",
       "3  140607  Star Wars: The Force Awakens  2.068178e+09   \n",
       "4  168259                     Furious 7  1.506249e+09   \n",
       "\n",
       "                                                cast            director  \\\n",
       "0  [ChrisPratt, BryceDallasHoward, IrrfanKhan, Vi...   [Colin Trevorrow]   \n",
       "1  [TomHardy, CharlizeTheron, HughKeays-Byrne, Ni...     [George Miller]   \n",
       "2  [ShaileneWoodley, TheoJames, KateWinslet, Anse...  [Robert Schwentke]   \n",
       "3  [HarrisonFord, MarkHamill, CarrieFisher, AdamD...       [J.J. Abrams]   \n",
       "4  [VinDiesel, PaulWalker, JasonStatham, Michelle...         [James Wan]   \n",
       "\n",
       "                                            overview  \\\n",
       "0  [Twenty-two, years, after, the, events, of, Ju...   \n",
       "1  [An, apocalyptic, story, set, in, the, furthes...   \n",
       "2  [Beatrice, Prior, must, confront, her, inner, ...   \n",
       "3  [Thirty, years, after, defeating, the, Galacti...   \n",
       "4  [Deckard, Shaw, seeks, revenge, against, Domin...   \n",
       "\n",
       "                                          genres        profit  \\\n",
       "0  [Action, Adventure, ScienceFiction, Thriller]  1.363529e+09   \n",
       "1  [Action, Adventure, ScienceFiction, Thriller]  2.284364e+08   \n",
       "2          [Adventure, ScienceFiction, Thriller]  1.852382e+08   \n",
       "3   [Action, Adventure, ScienceFiction, Fantasy]  1.868178e+09   \n",
       "4                      [Action, Crime, Thriller]  1.316249e+09   \n",
       "\n",
       "                                                tags  \n",
       "0  [ChrisPratt, BryceDallasHoward, IrrfanKhan, Vi...  \n",
       "1  [TomHardy, CharlizeTheron, HughKeays-Byrne, Ni...  \n",
       "2  [ShaileneWoodley, TheoJames, KateWinslet, Anse...  \n",
       "3  [HarrisonFord, MarkHamill, CarrieFisher, AdamD...  \n",
       "4  [VinDiesel, PaulWalker, JasonStatham, Michelle...  "
      ]
     },
     "execution_count": 32,
     "metadata": {},
     "output_type": "execute_result"
    }
   ],
   "source": [
    "movies.head()"
   ]
  },
  {
   "cell_type": "code",
   "execution_count": 33,
   "id": "d668481f",
   "metadata": {},
   "outputs": [
    {
     "data": {
      "text/html": [
       "<div>\n",
       "<style scoped>\n",
       "    .dataframe tbody tr th:only-of-type {\n",
       "        vertical-align: middle;\n",
       "    }\n",
       "\n",
       "    .dataframe tbody tr th {\n",
       "        vertical-align: top;\n",
       "    }\n",
       "\n",
       "    .dataframe thead th {\n",
       "        text-align: right;\n",
       "    }\n",
       "</style>\n",
       "<table border=\"1\" class=\"dataframe\">\n",
       "  <thead>\n",
       "    <tr style=\"text-align: right;\">\n",
       "      <th></th>\n",
       "      <th>id</th>\n",
       "      <th>original_title</th>\n",
       "      <th>tags</th>\n",
       "    </tr>\n",
       "  </thead>\n",
       "  <tbody>\n",
       "    <tr>\n",
       "      <th>0</th>\n",
       "      <td>135397</td>\n",
       "      <td>Jurassic World</td>\n",
       "      <td>[ChrisPratt, BryceDallasHoward, IrrfanKhan, Vi...</td>\n",
       "    </tr>\n",
       "    <tr>\n",
       "      <th>1</th>\n",
       "      <td>76341</td>\n",
       "      <td>Mad Max: Fury Road</td>\n",
       "      <td>[TomHardy, CharlizeTheron, HughKeays-Byrne, Ni...</td>\n",
       "    </tr>\n",
       "    <tr>\n",
       "      <th>2</th>\n",
       "      <td>262500</td>\n",
       "      <td>Insurgent</td>\n",
       "      <td>[ShaileneWoodley, TheoJames, KateWinslet, Anse...</td>\n",
       "    </tr>\n",
       "    <tr>\n",
       "      <th>3</th>\n",
       "      <td>140607</td>\n",
       "      <td>Star Wars: The Force Awakens</td>\n",
       "      <td>[HarrisonFord, MarkHamill, CarrieFisher, AdamD...</td>\n",
       "    </tr>\n",
       "    <tr>\n",
       "      <th>4</th>\n",
       "      <td>168259</td>\n",
       "      <td>Furious 7</td>\n",
       "      <td>[VinDiesel, PaulWalker, JasonStatham, Michelle...</td>\n",
       "    </tr>\n",
       "  </tbody>\n",
       "</table>\n",
       "</div>"
      ],
      "text/plain": [
       "       id                original_title  \\\n",
       "0  135397                Jurassic World   \n",
       "1   76341            Mad Max: Fury Road   \n",
       "2  262500                     Insurgent   \n",
       "3  140607  Star Wars: The Force Awakens   \n",
       "4  168259                     Furious 7   \n",
       "\n",
       "                                                tags  \n",
       "0  [ChrisPratt, BryceDallasHoward, IrrfanKhan, Vi...  \n",
       "1  [TomHardy, CharlizeTheron, HughKeays-Byrne, Ni...  \n",
       "2  [ShaileneWoodley, TheoJames, KateWinslet, Anse...  \n",
       "3  [HarrisonFord, MarkHamill, CarrieFisher, AdamD...  \n",
       "4  [VinDiesel, PaulWalker, JasonStatham, Michelle...  "
      ]
     },
     "execution_count": 33,
     "metadata": {},
     "output_type": "execute_result"
    }
   ],
   "source": [
    "new_df = movies[['id','original_title','tags']]\n",
    "new_df.head()"
   ]
  },
  {
   "cell_type": "code",
   "execution_count": 34,
   "id": "03836d4e",
   "metadata": {},
   "outputs": [
    {
     "name": "stderr",
     "output_type": "stream",
     "text": [
      "C:\\Users\\MAHESH\\AppData\\Local\\Temp\\ipykernel_600\\3089450492.py:1: SettingWithCopyWarning: \n",
      "A value is trying to be set on a copy of a slice from a DataFrame.\n",
      "Try using .loc[row_indexer,col_indexer] = value instead\n",
      "\n",
      "See the caveats in the documentation: https://pandas.pydata.org/pandas-docs/stable/user_guide/indexing.html#returning-a-view-versus-a-copy\n",
      "  new_df['tags'] = new_df['tags'].apply(lambda x:\" \".join(x))\n"
     ]
    }
   ],
   "source": [
    "new_df['tags'] = new_df['tags'].apply(lambda x:\" \".join(x))"
   ]
  },
  {
   "cell_type": "code",
   "execution_count": 35,
   "id": "66c8a21e",
   "metadata": {},
   "outputs": [
    {
     "data": {
      "text/plain": [
       "\"ChrisPratt BryceDallasHoward IrrfanKhan VincentD'Onofrio NickRobinson Action Adventure ScienceFiction Thriller Twenty-two years after the events of Jurassic Park, Isla Nublar now features a fully functioning dinosaur theme park, Jurassic World, as originally envisioned by John Hammond. Colin Trevorrow\""
      ]
     },
     "execution_count": 35,
     "metadata": {},
     "output_type": "execute_result"
    }
   ],
   "source": [
    "new_df['tags'][0]"
   ]
  },
  {
   "cell_type": "code",
   "execution_count": 36,
   "id": "7619abe7",
   "metadata": {},
   "outputs": [
    {
     "name": "stderr",
     "output_type": "stream",
     "text": [
      "C:\\Users\\MAHESH\\AppData\\Local\\Temp\\ipykernel_600\\3214958533.py:1: SettingWithCopyWarning: \n",
      "A value is trying to be set on a copy of a slice from a DataFrame.\n",
      "Try using .loc[row_indexer,col_indexer] = value instead\n",
      "\n",
      "See the caveats in the documentation: https://pandas.pydata.org/pandas-docs/stable/user_guide/indexing.html#returning-a-view-versus-a-copy\n",
      "  new_df['tags'] = new_df['tags'].apply(lambda x:x.lower())\n"
     ]
    }
   ],
   "source": [
    "new_df['tags'] = new_df['tags'].apply(lambda x:x.lower())"
   ]
  },
  {
   "cell_type": "code",
   "execution_count": 45,
   "id": "4d9b91ca",
   "metadata": {},
   "outputs": [],
   "source": [
    "import nltk\n",
    "from nltk.stem.porter import PorterStemmer\n",
    "ps=PorterStemmer()\n"
   ]
  },
  {
   "cell_type": "code",
   "execution_count": 46,
   "id": "dbbe8df7",
   "metadata": {},
   "outputs": [],
   "source": [
    "def stem(text):\n",
    "    y=[]\n",
    "    for i in text.split():\n",
    "        y.append(ps.stem(i))\n",
    "    return \" \".join(y)\n"
   ]
  },
  {
   "cell_type": "code",
   "execution_count": 47,
   "id": "e4a30a8b",
   "metadata": {},
   "outputs": [
    {
     "name": "stderr",
     "output_type": "stream",
     "text": [
      "C:\\Users\\MAHESH\\AppData\\Local\\Temp\\ipykernel_600\\3213734980.py:1: SettingWithCopyWarning: \n",
      "A value is trying to be set on a copy of a slice from a DataFrame.\n",
      "Try using .loc[row_indexer,col_indexer] = value instead\n",
      "\n",
      "See the caveats in the documentation: https://pandas.pydata.org/pandas-docs/stable/user_guide/indexing.html#returning-a-view-versus-a-copy\n",
      "  new_df['tags'] = new_df['tags'].apply(stem)\n"
     ]
    }
   ],
   "source": [
    "new_df['tags'] = new_df['tags'].apply(stem)"
   ]
  },
  {
   "cell_type": "code",
   "execution_count": 56,
   "id": "7474e297",
   "metadata": {},
   "outputs": [],
   "source": [
    "from sklearn.feature_extraction.text import CountVectorizer\n",
    "cv = CountVectorizer(max_features=1500,stop_words='english')"
   ]
  },
  {
   "cell_type": "code",
   "execution_count": 57,
   "id": "85378405",
   "metadata": {},
   "outputs": [],
   "source": [
    "vectors = cv.fit_transform(new_df['tags']).toarray()"
   ]
  },
  {
   "cell_type": "code",
   "execution_count": 58,
   "id": "525911d1",
   "metadata": {},
   "outputs": [
    {
     "data": {
      "text/plain": [
       "array([[0, 0, 0, ..., 0, 0, 0],\n",
       "       [0, 0, 0, ..., 0, 0, 0],\n",
       "       [0, 0, 0, ..., 0, 0, 0],\n",
       "       ...,\n",
       "       [0, 0, 0, ..., 0, 0, 0],\n",
       "       [0, 0, 0, ..., 0, 0, 0],\n",
       "       [0, 0, 0, ..., 0, 0, 0]], dtype=int64)"
      ]
     },
     "execution_count": 58,
     "metadata": {},
     "output_type": "execute_result"
    }
   ],
   "source": [
    "vectors"
   ]
  },
  {
   "cell_type": "code",
   "execution_count": 59,
   "id": "ada0dc50",
   "metadata": {},
   "outputs": [
    {
     "data": {
      "text/plain": [
       "array(['000', '007', '10', ..., 'zone', 'zoo', 'zooeydeschanel'],\n",
       "      dtype=object)"
      ]
     },
     "execution_count": 59,
     "metadata": {},
     "output_type": "execute_result"
    }
   ],
   "source": [
    "cv.get_feature_names_out()"
   ]
  },
  {
   "cell_type": "code",
   "execution_count": 60,
   "id": "1c4417a1",
   "metadata": {},
   "outputs": [
    {
     "data": {
      "text/plain": [
       "(1287, 1500)"
      ]
     },
     "execution_count": 60,
     "metadata": {},
     "output_type": "execute_result"
    }
   ],
   "source": [
    "vectors.shape"
   ]
  },
  {
   "cell_type": "code",
   "execution_count": 64,
   "id": "214b78b5",
   "metadata": {},
   "outputs": [],
   "source": [
    "from sklearn.metrics.pairwise import cosine_similarity\n",
    "similarity=cosine_similarity(vectors)"
   ]
  },
  {
   "cell_type": "code",
   "execution_count": 65,
   "id": "daee8228",
   "metadata": {},
   "outputs": [
    {
     "data": {
      "text/plain": [
       "array([1.        , 0.21389632, 0.19446112, ..., 0.15171652, 0.11433239,\n",
       "       0.09166985])"
      ]
     },
     "execution_count": 65,
     "metadata": {},
     "output_type": "execute_result"
    }
   ],
   "source": [
    "similarity[0]"
   ]
  },
  {
   "cell_type": "code",
   "execution_count": 81,
   "id": "5eb95ca4",
   "metadata": {},
   "outputs": [],
   "source": [
    "def recommend(movie):\n",
    "    movie_index = new_df[new_df['original_title']==movie].index[0]\n",
    "    distances = similarity[movie_index]\n",
    "    movies_list = sorted(list(enumerate(distances)),reverse=True,key=lambda x:x[1])[1:6]\n",
    "    for i in movies_list:\n",
    "        print(new_df.iloc[i[0]].original_title)\n",
    "       "
   ]
  },
  {
   "cell_type": "code",
   "execution_count": 82,
   "id": "e1f14d27",
   "metadata": {},
   "outputs": [
    {
     "data": {
      "text/plain": [
       "165"
      ]
     },
     "execution_count": 82,
     "metadata": {},
     "output_type": "execute_result"
    }
   ],
   "source": [
    "new_df[new_df['original_title']=='Avatar'].index[0]"
   ]
  },
  {
   "cell_type": "code",
   "execution_count": 83,
   "id": "4365ee4a",
   "metadata": {},
   "outputs": [
    {
     "name": "stdout",
     "output_type": "stream",
     "text": [
      "Apollo 18\n",
      "Diamonds Are Forever\n",
      "The Wolverine\n",
      "Jupiter Ascending\n",
      "Aliens vs Predator: Requiem\n"
     ]
    }
   ],
   "source": [
    "recommend('Avatar')"
   ]
  },
  {
   "cell_type": "code",
   "execution_count": 84,
   "id": "d3c4bd48",
   "metadata": {},
   "outputs": [],
   "source": [
    "import pickle\n"
   ]
  },
  {
   "cell_type": "code",
   "execution_count": 86,
   "id": "2e309316",
   "metadata": {},
   "outputs": [],
   "source": [
    "pickle.dump(new_df.to_dict(),open('movies_dict.pkl','wb'))"
   ]
  },
  {
   "cell_type": "code",
   "execution_count": 87,
   "id": "7d102a07",
   "metadata": {},
   "outputs": [],
   "source": [
    "pickle.dump(similarity,open('similarity.pkl','wb'))"
   ]
  },
  {
   "cell_type": "code",
   "execution_count": null,
   "id": "dca86d6f",
   "metadata": {},
   "outputs": [],
   "source": []
  }
 ],
 "metadata": {
  "kernelspec": {
   "display_name": "Python 3 (ipykernel)",
   "language": "python",
   "name": "python3"
  },
  "language_info": {
   "codemirror_mode": {
    "name": "ipython",
    "version": 3
   },
   "file_extension": ".py",
   "mimetype": "text/x-python",
   "name": "python",
   "nbconvert_exporter": "python",
   "pygments_lexer": "ipython3",
   "version": "3.10.9"
  }
 },
 "nbformat": 4,
 "nbformat_minor": 5
}
